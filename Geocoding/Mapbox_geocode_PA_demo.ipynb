{
 "cells": [
  {
   "cell_type": "code",
   "execution_count": 1,
   "metadata": {},
   "outputs": [],
   "source": [
    "# @sarahbat (Sarah Battersby)\n",
    "#\n",
    "# Read address data from csv, write geocoded results to csv\n",
    "# Demo using kinda random Philadelphia addresses (from city Open data portal - real estate tax delinquincy data)\n",
    "# Mapbox geocoder\n",
    "# FWIW - Mapbox geocoder on ~10000 records ran for 46min 1s\n",
    "# Mapbox's Temporary Geocoding API is free for up to 100,000 requests per month.\n",
    "\n",
    "# Python = 2.7\n"
   ]
  },
  {
   "cell_type": "code",
   "execution_count": 2,
   "metadata": {},
   "outputs": [],
   "source": [
    "import csv\n",
    "import urllib\n",
    "import json\n",
    "\n",
    "file_input = r'philly_real_estate_tax_delinquencies_geocode_10k.csv'\n",
    "file_output = r'philly_real_estate_tax_delinquencies_geocode_10k_output_mapbox.csv'\n",
    "ID_FIELD = 0\n",
    "ADDRESS_FIELD = 1\n",
    "CITY_FIELD = 2\n",
    "STATE_FIELD = 3\n",
    "ZIP_FIELD = 4\n"
   ]
  },
  {
   "cell_type": "code",
   "execution_count": 4,
   "metadata": {},
   "outputs": [],
   "source": [
    "MAPBOX_TOKEN = YOUR_API_KEY_HERE"
   ]
  },
  {
   "cell_type": "code",
   "execution_count": null,
   "metadata": {},
   "outputs": [],
   "source": [
    "%%time\n",
    "with open(file_input) as csv_input:\n",
    "\twith open(file_output, 'w') as csv_output:\n",
    "\t\tcsv_reader = csv.reader(csv_input, delimiter=',')\n",
    "\t\tcsv_writer = csv.writer(csv_output, delimiter='|', lineterminator='\\n')\n",
    "\t\tcsv_writer.writerow(['address'] + ['city'] + ['state'] + ['zip'] + ['longitude'] + ['latitude'] + ['rowNum'] + ['id'] + ['accuracy'])\n",
    "\n",
    "\t\tline_count = 0\n",
    "\t\tfor row in csv_reader:\n",
    "\t\t\tif line_count == 0:\n",
    "\t\t\t\tline_count += 1\n",
    "\t\t\t\tcontinue\n",
    "\t\t\telse:\n",
    "\t\t\t\tif line_count % 100 == 0:\n",
    "\t\t\t\t\t# run off a counter to track progress\n",
    "\t\t\t\t\tprint(line_count)\n",
    "# \t\t\t\tprint(line_count)\n",
    "\t\t\t\t# make address from relevant columns in csv (will vary depending on input format)\n",
    "\t\t\t\taddress = row[ADDRESS_FIELD] + ',' + row[CITY_FIELD] + ',' + row[STATE_FIELD] + ' ' + row[ZIP_FIELD]\n",
    "\t\t\t\tid_val = row[ID_FIELD]\n",
    "\t\t\t\t# geocode using Mapbox; if match, write to csv\n",
    "\t\t\t\t# reformat location string for URL\n",
    "\t\t\t\taddress = address.replace(' ', '+')\n",
    "\t\t\t\tgeocode_url = 'https://api.mapbox.com/geocoding/v5/mapbox.places/' + address + '.json?access_token=' + MAPBOX_TOKEN\t\n",
    "\t\t\t\ttry:\n",
    "\t\t\t\t\treq = urllib.request.Request(geocode_url)\n",
    "\t\t\t\t\tr = urllib.request.urlopen(req)\n",
    "\t\t\t\t\treq_body = r.read()\n",
    "\n",
    "\t\t\t\t\tj = json.loads(req_body)\n",
    "\t\t\t\t\tfeature = j['features'][0]\n",
    "\t\t\t\texcept:\n",
    "\t\t\t\t\tfeature = {'properties': []}\n",
    "\t\t\t\t\t\n",
    "\t# \t\t\tprint(feature)\n",
    "\n",
    "\t\t\t\tif 'accuracy' in feature['properties']:\n",
    "\t\t\t\t\taccuracy = feature['properties']['accuracy']\n",
    "\t\t\t\telse:\n",
    "\t\t\t\t\taccuracy = 'unknown'\n",
    "\t\t\t\tif 'center' in feature:\n",
    "\t\t\t\t\tlon = feature['center'][0]\n",
    "\t\t\t\t\tlat = feature['center'][1]\n",
    "\t\t\t\telse:\n",
    "\t\t\t\t\tlon = -99.0\n",
    "\t\t\t\t\tlat = -99.0\n",
    "\n",
    "# \t\t\t\tprint(feature)\n",
    "\n",
    "\t\t\t\tcsv_writer.writerow([row[ADDRESS_FIELD]] + [row[CITY_FIELD]] +  [row[STATE_FIELD]] + [row[ZIP_FIELD]] + [lon] + [lat] + [line_count] + [row[ID_FIELD]] + [accuracy])\n",
    "\n",
    "\t\t\tline_count += 1"
   ]
  }
 ],
 "metadata": {
  "kernelspec": {
   "display_name": "Python 3",
   "language": "python",
   "name": "python3"
  },
  "language_info": {
   "codemirror_mode": {
    "name": "ipython",
    "version": 3
   },
   "file_extension": ".py",
   "mimetype": "text/x-python",
   "name": "python",
   "nbconvert_exporter": "python",
   "pygments_lexer": "ipython3",
   "version": "3.7.4"
  }
 },
 "nbformat": 4,
 "nbformat_minor": 4
}
